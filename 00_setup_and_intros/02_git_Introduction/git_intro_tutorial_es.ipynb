{
 "cells": [
  {
   "cell_type": "markdown",
   "id": "87317ebf",
   "metadata": {},
   "source": [
    "# Creating a Github Student Account\n",
    "\n",
    "# URL: [education.github.com/pack](https://education.github.com/pack)"
   ]
  },
  {
   "cell_type": "markdown",
   "id": "0c72cc38",
   "metadata": {},
   "source": [
    "# Introducción a Git: Guardando Tu Progreso\n",
    "\n",
    "¡Bienvenido a este tutorial sobre Git! Ya has hecho un fork de un repositorio de GitHub y lo has abierto en Codespaces. Ahora, aprendamos a usar Git para guardar tu progreso mientras trabajas en tu proyecto de aprendizaje automático.\n",
    "\n",
    "## ¿Qué es Git?\n",
    "\n",
    "Git es un sistema de control de versiones. Te ayuda a mantener un seguimiento de los cambios que realizas en tu código con el tiempo. Imagínalo como un botón de guardar para tu proyecto, permitiéndote volver a versiones anteriores si es necesario."
   ]
  },
  {
   "cell_type": "markdown",
   "id": "0a5105f4",
   "metadata": {},
   "source": [
    "## Paso 1: Comprobando el Estado de Git\n",
    "\n",
    "Antes de hacer cualquier cambio, comprobemos el estado de tu repositorio. Esto te mostrará el estado actual de tus archivos.\n",
    "\n",
    "En el bloque de código a continuación, escribe el siguiente comando y ejecútalo:\n",
    "\n",
    "```bash\n",
    "git status\n",
    "```\n"
   ]
  },
  {
   "cell_type": "code",
   "execution_count": 8,
   "id": "1dfb0c85",
   "metadata": {},
   "outputs": [
    {
     "name": "stderr",
     "output_type": "stream",
     "text": [
      "271.41s - pydevd: Sending message related to process being replaced timed-out after 5 seconds\n"
     ]
    },
    {
     "name": "stdout",
     "output_type": "stream",
     "text": [
      "On branch student\n",
      "Your branch is up to date with 'origin/student'.\n",
      "\n",
      "Changes not staged for commit:\n",
      "  (use \"git add <file>...\" to update what will be committed)\n",
      "  (use \"git restore <file>...\" to discard changes in working directory)\n",
      "\t\u001b[31mmodified:   git_intro_tutorial_es.ipynb\u001b[m\n",
      "\n",
      "no changes added to commit (use \"git add\" and/or \"git commit -a\")\n"
     ]
    }
   ],
   "source": [
    "\n",
    "! git status\n"
   ]
  },
  {
   "cell_type": "markdown",
   "id": "5bf861d8",
   "metadata": {},
   "source": [
    "## Paso 2: Haciendo Cambios en Tu Proyecto\n",
    "\n",
    "You have already made changes to this by writing the code in the last step. Now, you want to save those changes using Git.\n",
    "\n",
    "In case this file is not automatically saved type Cntrl + S."
   ]
  },
  {
   "cell_type": "markdown",
   "id": "da99f5e9",
   "metadata": {},
   "source": [
    "## Paso 3: Preparando Tus Cambios\n",
    "\n",
    "Antes de guardar (hacer commit) tus cambios, necesitas prepararlos. Preparar es como decirle a Git qué cambios quieres incluir en tu próxima guardada.\n",
    "\n",
    "En el bloque de código a continuación, escribe el siguiente comando y ejecútalo para preparar todos los cambios:\n",
    "\n",
    "```bash\n",
    "git add .\n",
    "```\n",
    "\n",
    "Este comando prepara todos los cambios en tu proyecto."
   ]
  },
  {
   "cell_type": "code",
   "execution_count": 9,
   "id": "8ae62555",
   "metadata": {},
   "outputs": [
    {
     "name": "stderr",
     "output_type": "stream",
     "text": [
      "381.80s - pydevd: Sending message related to process being replaced timed-out after 5 seconds\n"
     ]
    }
   ],
   "source": [
    "! git add . "
   ]
  },
  {
   "cell_type": "markdown",
   "id": "4fee60d5",
   "metadata": {},
   "source": [
    "## Paso 4: Haciendo Commit de Tus Cambios\n",
    "\n",
    "Ahora que tus cambios están preparados, es momento de hacer commit. Un commit es como tomar una instantánea de tu proyecto en este momento.\n",
    "\n",
    "En el bloque de código a continuación, escribe el siguiente comando y ejecútalo para hacer commit de tus cambios:\n",
    "\n",
    "```bash\n",
    "git commit -m \"Save my progress\"\n",
    "```\n",
    "\n",
    "La bandera `-m` te permite agregar un mensaje explicando qué cambios realizaste. Es una buena práctica escribir mensajes claros y concisos."
   ]
  },
  {
   "cell_type": "code",
   "execution_count": 10,
   "id": "c245baf5",
   "metadata": {},
   "outputs": [
    {
     "name": "stderr",
     "output_type": "stream",
     "text": [
      "539.90s - pydevd: Sending message related to process being replaced timed-out after 5 seconds\n"
     ]
    },
    {
     "name": "stdout",
     "output_type": "stream",
     "text": [
      "[student 6eb32ff] Save my progress\n",
      " 1 file changed, 27 insertions(+), 4 deletions(-)\n"
     ]
    }
   ],
   "source": [
    "! git commit -m \"Save my progress\""
   ]
  },
  {
   "cell_type": "markdown",
   "id": "85bfc459",
   "metadata": {},
   "source": [
    "## Paso 5: Empujando Tus Cambios a GitHub\n",
    "\n",
    "Después de hacer commit de tus cambios, el siguiente paso es empujarlos a tu repositorio de GitHub. Esto guarda tus cambios en la nube para que puedas acceder a ellos desde cualquier lugar.\n",
    "\n",
    "En el bloque de código a continuación, escribe el siguiente comando y ejecútalo para empujar tus cambios:\n",
    "\n",
    "```bash\n",
    "git push\n",
    "```\n",
    "\n",
    "Este comando envía tus cambios comprometidos a GitHub. ¡Ahora, cualquiera que mire tu repositorio bifurcado podrá ver tu progreso!"
   ]
  },
  {
   "cell_type": "code",
   "execution_count": 11,
   "id": "0fcbb111",
   "metadata": {},
   "outputs": [
    {
     "name": "stderr",
     "output_type": "stream",
     "text": [
      "588.55s - pydevd: Sending message related to process being replaced timed-out after 5 seconds\n"
     ]
    },
    {
     "name": "stdout",
     "output_type": "stream",
     "text": [
      "Enumerating objects: 9, done.\n",
      "Counting objects: 100% (9/9), done.\n",
      "Delta compression using up to 2 threads\n",
      "Compressing objects: 100% (5/5), done.\n",
      "Writing objects: 100% (5/5), 857 bytes | 857.00 KiB/s, done.\n",
      "Total 5 (delta 4), reused 0 (delta 0), pack-reused 0 (from 0)\n",
      "remote: Resolving deltas: 100% (4/4), completed with 4 local objects.\u001b[K\n",
      "To https://github.com/sebitas-UI/AI_Pygame_Playground\n",
      "   a1666d5..6eb32ff  student -> student\n"
     ]
    }
   ],
   "source": [
    "! git push"
   ]
  },
  {
   "cell_type": "markdown",
   "id": "09ed2607",
   "metadata": {},
   "source": [
    "## Resumen\n",
    "\n",
    "¡Buen trabajo! Has aprendido lo básico de Git: comprobar el estado, preparar cambios, hacer commit de ellos y empujar tu progreso a GitHub. Estas son habilidades esenciales que te ayudarán a gestionar tu código mientras trabajas en tu proyecto de aprendizaje automático.\n",
    "\n",
    "En el futuro, para guardar los cambios, puede volver a este archivo o puede ejecutar los comandos en la consola. Para abrir la consola, mantenga presionado Cntrl + ~"
   ]
  },
  {
   "cell_type": "code",
   "execution_count": null,
   "id": "d609fb2a",
   "metadata": {},
   "outputs": [],
   "source": [
    "! git add .\n",
    "! git commit -m \"saving progress\"\n",
    "! git push"
   ]
  }
 ],
 "metadata": {
  "kernelspec": {
   "display_name": "Python 3",
   "language": "python",
   "name": "python3"
  },
  "language_info": {
   "codemirror_mode": {
    "name": "ipython",
    "version": 3
   },
   "file_extension": ".py",
   "mimetype": "text/x-python",
   "name": "python",
   "nbconvert_exporter": "python",
   "pygments_lexer": "ipython3",
   "version": "3.12.1"
  }
 },
 "nbformat": 4,
 "nbformat_minor": 5
}
